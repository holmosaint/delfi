{
 "cells": [
  {
   "cell_type": "code",
   "execution_count": 33,
   "metadata": {},
   "outputs": [],
   "source": [
    "import numpy as np\n",
    "import sys\n",
    "from tmp.Franke import SinglePathwayModel\n",
    "from tmp.Franke import *\n",
    "from tmp.Franke_feature import get_trace_features\n",
    "import matplotlib.pyplot as plt\n",
    "import os"
   ]
  },
  {
   "cell_type": "code",
   "execution_count": 2,
   "metadata": {},
   "outputs": [],
   "source": [
    "dt = 2"
   ]
  },
  {
   "cell_type": "code",
   "execution_count": 3,
   "metadata": {},
   "outputs": [],
   "source": [
    "pre_step, stim, response = get_data_pair_lchirp(1, 20000, DATATYPE=1, dt=dt)"
   ]
  },
  {
   "cell_type": "code",
   "execution_count": 4,
   "metadata": {},
   "outputs": [],
   "source": [
    "true_feature = get_trace_features(response, dt=dt)"
   ]
  },
  {
   "cell_type": "code",
   "execution_count": 45,
   "metadata": {},
   "outputs": [
    {
     "name": "stdout",
     "output_type": "stream",
     "text": [
      "Processing 3\n",
      "Processing 4\n",
      "Processing 5\n",
      "Processing 6\n",
      "Processing 7\n",
      "Processing 8\n",
      "Processing 9\n"
     ]
    },
    {
     "data": {
      "text/plain": [
       "<Figure size 1440x864 with 0 Axes>"
      ]
     },
     "metadata": {},
     "output_type": "display_data"
    },
    {
     "data": {
      "text/plain": [
       "<Figure size 1440x864 with 0 Axes>"
      ]
     },
     "metadata": {},
     "output_type": "display_data"
    },
    {
     "data": {
      "text/plain": [
       "<Figure size 1440x864 with 0 Axes>"
      ]
     },
     "metadata": {},
     "output_type": "display_data"
    },
    {
     "data": {
      "text/plain": [
       "<Figure size 1440x864 with 0 Axes>"
      ]
     },
     "metadata": {},
     "output_type": "display_data"
    },
    {
     "data": {
      "text/plain": [
       "<Figure size 1440x864 with 0 Axes>"
      ]
     },
     "metadata": {},
     "output_type": "display_data"
    },
    {
     "data": {
      "text/plain": [
       "<Figure size 1440x864 with 0 Axes>"
      ]
     },
     "metadata": {},
     "output_type": "display_data"
    },
    {
     "data": {
      "text/plain": [
       "<Figure size 1440x864 with 0 Axes>"
      ]
     },
     "metadata": {},
     "output_type": "display_data"
    }
   ],
   "source": [
    "labels_params = [\n",
    "            r'${sigmoid}_{HALF}$',\n",
    "            r'${sigmoid}_{SLOPE}$',\n",
    "            r'${sigmoid}_{MAX}$', r'$\\tau_{TF}$',\n",
    "            r'$g\\_{INF}_k$', r'$g\\_{INF}_k$',\n",
    "            r'$g\\_\\tau_{HALF}$', r'$g\\_\\tau_{SLOPE}$',\n",
    "            r'$g\\_\\tau_{MAX}$'\n",
    "        ]\n",
    "\n",
    "for i in range(3, 10):\n",
    "    print(\"Processing {}\".format(i))\n",
    "    base_dir = './Result/exp_{}'.format(i)\n",
    "    post_params_file = os.path.join(base_dir, 'posterior_samples.npy')\n",
    "    \n",
    "    params = np.load(post_params_file)\n",
    "\n",
    "    fig = plt.figure(figsize=(20, 12))\n",
    "    for i in range(params.shape[-1]):\n",
    "        plt.subplot(3, 3, i + 1)\n",
    "        plt.hist(params[:, i])\n",
    "        plt.xlabel(labels_params[i])\n",
    "    plt.savefig(os.path.join(base_dir, 'param_hist.png'), dpi=400)\n",
    "    plt.clf()\n",
    "\n",
    "    means_params = np.mean(params, axis=0)\n",
    "    means_params\n",
    "\n",
    "    model = SinglePathwayModel(means_params, dt=dt, single=True)\n",
    "    res = model.run(stim)[0][pre_step:]\n",
    "    feature = get_trace_features(res, dt=dt)\n",
    "\n",
    "    plt.plot(response, c='b', label='True')\n",
    "    plt.plot(res, c='r', label='Prediction')\n",
    "    plt.legend()\n",
    "    plt.savefig(os.path.join(base_dir, 'response_contrast.png'), dpi=400)\n",
    "    plt.clf()\n",
    "\n",
    "    plt.plot(true_feature, c='b', label='True')\n",
    "    plt.plot(feature, c='r', label='Prediction')\n",
    "    plt.legend()\n",
    "    plt.savefig(os.path.join(base_dir, 'feature_contrast.png'), dpi=400)\n",
    "    plt.clf()\n"
   ]
  },
  {
   "cell_type": "code",
   "execution_count": 27,
   "metadata": {},
   "outputs": [],
   "source": [
    "x = [np.array([[0.5, 4]]),  # half of sigmoid\n",
    "     np.array([[0.1, 3]]), # slope of sigmoid\n",
    "     np.array([[0.1, 5]]), # maximum of sigmoid\n",
    "     np.array([[0.1, 50]]), # tau fo temporal filter\n",
    "     np.array([[0.01, 2]]), # k of gain infi\n",
    "     np.array([[0.2, 3]]), # m of gain infi\n",
    "     np.array([[-2, +2]]), # half of gain tau\n",
    "     np.array([[-1, +1]]), # slope of gain tau\n",
    "     np.array([[100, 1500]])] # max of gain tau"
   ]
  },
  {
   "cell_type": "code",
   "execution_count": 31,
   "metadata": {
    "scrolled": true
   },
   "outputs": [
    {
     "name": "stdout",
     "output_type": "stream",
     "text": [
      "Eproch 0 param [0.5071047830111993, 0.10366093248526272, 0.1021618931297103, 0.11463167229906629, 0.01946876816122154, 0.22061991623461116, -1.4328061271244685, -0.8000586087539993, 122.65501890836353]\n",
      "Eproch 1 param [0.5036222660624434, 0.1096128528766442, 0.10246075015009916, 0.1010230946496341, 0.018217060998755225, 0.2551149046545783, -1.837457614530423, -0.494686090461131, 122.0348595798901]\n",
      "Eproch 2 param [0.5010517518871126, 0.10852289874429272, 0.10871555909860214, 0.10765511765482785, 0.01036778927944026, 0.20796140895844395, -1.3805518620520227, -0.5901765246185442, 143.30249120502458]\n",
      "Eproch 3 param [0.500250509926359, 0.10962300170942862, 0.11040566306665713, 0.11671175432390293, 0.016258228261279414, 0.2645566072404549, -1.3774642111571826, -0.9849377552708735, 107.69686035674529]\n",
      "Eproch 4 param [0.5028469998963155, 0.10200784630884287, 0.11785164741433989, 0.1074524150841191, 0.01820822496310849, 0.22586667210267594, -1.67225304441325, -0.7211547264081017, 109.73137382892278]\n",
      "Eproch 5 param [0.5016787971099909, 0.10264488577782722, 0.11364344455408427, 0.1194356815583468, 0.012943457228512832, 0.27761749139933367, -1.3352168587226858, -0.7939521319983527, 134.72425988278104]\n",
      "Eproch 6 param [0.5053224264338014, 0.10630663673752253, 0.11526712729727019, 0.10792866898972094, 0.010850321389941048, 0.29386304837753874, -1.5753836714919642, -0.6686343788052166, 120.33725265191288]\n",
      "Eproch 7 param [0.5099800402954824, 0.10521972787235565, 0.10593975452487739, 0.11919648063710488, 0.012086737170510741, 0.26366806401309084, -1.2536045057961183, -0.4895132157515034, 129.02693111579492]\n",
      "Eproch 8 param [0.5025080611948699, 0.10300407732725134, 0.11135376094518469, 0.11167096416761937, 0.011565088660013885, 0.22963932405714294, -1.496434859636862, -0.9533666369896677, 135.30160821339803]\n",
      "Eproch 9 param [0.5017468852287911, 0.10114285534766683, 0.11262974856436771, 0.11770473106057246, 0.0133928123997436, 0.27937613448335624, -1.4054256477432365, -0.11530856049588512, 112.40572754710794]\n",
      "Eproch 10 param [0.5041733118669419, 0.10143146483537539, 0.10389215560916243, 0.11705991260727835, 0.010505600131020235, 0.28071666437715315, -1.9859754831855692, -0.43129040925313367, 114.8965819020988]\n",
      "Eproch 11 param [0.5003715955400032, 0.10615249797850669, 0.10172968868254277, 0.11480130889620092, 0.014813114668237981, 0.2672743431343506, -1.2220209629213352, -0.8914443913595013, 138.71146968019747]\n",
      "Eproch 12 param [0.509866361097299, 0.1047343262680772, 0.11304427701147961, 0.11893228905468166, 0.018032728068448044, 0.20589838510987576, -1.8768949703461846, -0.3203110908391268, 103.52387517967307]\n",
      "Eproch 13 param [0.5071940058277343, 0.11053093732013747, 0.10021572149880806, 0.10728503299779235, 0.016233743212762317, 0.2994361252555886, -1.3230968372489587, -0.9997092220776824, 145.9322151114535]\n",
      "Eproch 14 param [0.5009700073984581, 0.10631668708251596, 0.11801732745395904, 0.11697546358384636, 0.015926311472482392, 0.2130251456728722, -1.9786428939194893, -0.989062222697812, 140.6799181683938]\n",
      "Eproch 15 param [0.5028756695584614, 0.1116571780873163, 0.10707725449308181, 0.11296925190355639, 0.014216633491099844, 0.27906546603664917, -1.8812366941028633, -0.8347988505932988, 105.28316922882955]\n",
      "Eproch 16 param [0.505814927647002, 0.11252295596907019, 0.11267151067529807, 0.11461197838431002, 0.0174825560872561, 0.21949869729178062, -1.2955420102184596, -0.411595991951211, 132.82430317815954]\n",
      "Eproch 17 param [0.5062330790842824, 0.1097009265291576, 0.10414254821102048, 0.10726376457908472, 0.019057682512552722, 0.2567247155388801, -1.4353394590053523, -0.8663721773749652, 125.8198951673381]\n",
      "Eproch 18 param [0.5055065011870782, 0.10839966029510756, 0.10653622053350452, 0.10869083671915653, 0.010514977935235493, 0.24399504975631522, -1.925059703340311, -0.9510367148473224, 146.27176148750442]\n",
      "Eproch 19 param [0.5032410128907345, 0.10675643992836654, 0.10927386204847347, 0.10487902041772512, 0.019053515243679073, 0.22132287284334662, -1.4202447774732323, -0.3106097017098187, 145.45421797887363]\n",
      "Eproch 20 param [0.5061645216511657, 0.10085045854718273, 0.10379966913978853, 0.10323768769710846, 0.01314877036922105, 0.2759608735109528, -1.4380254811781614, -0.25338694537256146, 133.150796798871]\n",
      "Eproch 21 param [0.5030149439080777, 0.10277760203370695, 0.10138881373784274, 0.10436593319828005, 0.014677248358358604, 0.24774807460549794, -1.8026317689182474, -0.7797465273808677, 122.65926415177456]\n",
      "Eproch 22 param [0.5009478157973302, 0.10840103884484875, 0.11096275156440527, 0.11187890061920443, 0.014245952564459506, 0.2976755353682355, -1.943251985359028, -0.9056505754619018, 110.82108680425108]\n",
      "Eproch 23 param [0.5087846205798113, 0.10581516422343072, 0.11776260357344359, 0.11049015151835861, 0.019154484526351954, 0.21553121138476397, -1.605114831233233, -0.522922181894127, 136.25990300427983]\n",
      "Eproch 24 param [0.5029555364382752, 0.10971410152003534, 0.10549089320948976, 0.10802937680025332, 0.010356001726115468, 0.28082495525962836, -1.426849702537822, -0.4304438593342683, 141.48284040757605]\n",
      "Eproch 25 param [0.5072198762517988, 0.11220205573767529, 0.11057014288755589, 0.10938758866216595, 0.01543112820427165, 0.23825732954373222, -1.2874142904922699, -0.6821961312376768, 147.64190790136567]\n",
      "Eproch 26 param [0.507665673497263, 0.10877473266033803, 0.10562511693699886, 0.11459412370533498, 0.016538112287902834, 0.26264646725402774, -1.8681682482941573, -0.25480020294090333, 137.91692101948195]\n",
      "Eproch 27 param [0.508074282680665, 0.10455636366178499, 0.10292840657119581, 0.11882102802433071, 0.013867140603779476, 0.2225553396343418, -1.3578159827686918, -0.6332627987423181, 111.50094260340315]\n",
      "Eproch 28 param [0.5082767639986164, 0.10029182135062314, 0.10301682062503105, 0.10214342945296227, 0.015432086092470739, 0.2649806152244618, -1.3923033969813994, -0.4587036180862354, 121.97340581230368]\n",
      "Eproch 29 param [0.5006372151610934, 0.10519834334034604, 0.10209607457999915, 0.11421685858118488, 0.015227999591672968, 0.2838385772091018, -1.419099252674581, -0.27372963909051995, 136.71433402625377]\n",
      "Eproch 30 param [0.5028008114807754, 0.10435682990152924, 0.10760005483850196, 0.11052460531068233, 0.013023993111094553, 0.2877491615343234, -1.3636623245001065, -0.7163285840244373, 140.6733469865111]\n",
      "Eproch 31 param [0.5034837540812164, 0.10899665723528201, 0.11734512483547625, 0.10198838588453396, 0.01857144196298862, 0.29223884605003186, -1.9503696036600466, -0.39492281617663627, 100.0675335525392]\n",
      "Eproch 32 param [0.5063164410914517, 0.11283817026407517, 0.11193445379350546, 0.11402760183298628, 0.015162235728294914, 0.26020163580466393, -1.9006973300366492, -0.5780778552939089, 105.2470461117473]\n",
      "Eproch 33 param [0.5007615636807401, 0.1090076682726801, 0.10590214499259952, 0.10664782409365456, 0.016061713161204062, 0.22379015520682902, -1.5076939701826855, -0.4949166714830051, 118.36585652545926]\n",
      "Eproch 34 param [0.501026589068024, 0.10785908077263873, 0.11348544215327518, 0.11303628551542501, 0.017539135472991525, 0.2909640177420296, -1.775779125878672, -0.4963664134779999, 144.69744197889173]\n",
      "Eproch 35 param [0.5070238194226591, 0.1056019855164114, 0.1147115966105674, 0.1070619087765452, 0.010805675574027286, 0.20897274852699046, -1.3076832628209285, -0.5358007379748222, 140.93227459260825]\n",
      "Eproch 36 param [0.5028327863316955, 0.10383781450341767, 0.10928632665885991, 0.11658648300141969, 0.016731420507567273, 0.2744009593814467, -1.3122006495198306, -0.27822504932816006, 103.31067195436789]\n",
      "Eproch 37 param [0.5072931016404548, 0.10163905517583385, 0.10499701883269849, 0.10003172292160228, 0.01615164845092239, 0.23161791724714687, -1.3889435590156112, -0.39547172949601206, 102.39595718104414]\n",
      "Eproch 38 param [0.5047378665096159, 0.10959233828903645, 0.11669513794802655, 0.10873277838954792, 0.015003330459022909, 0.27979059306162846, -1.7973899155228497, -0.37681999756839246, 134.57684876396127]\n",
      "Eproch 39 param [0.5035589765756928, 0.10827484471564777, 0.10965420362232114, 0.11369523831319511, 0.010726543973745159, 0.2606612702270044, -1.3869297811057941, -0.8981569295486102, 114.71879730879976]\n",
      "Eproch 40 param [0.5079670048315493, 0.1060418039628225, 0.11145352733705378, 0.11474230226363177, 0.015273107074214885, 0.20088758434121406, -1.4741670895954337, -0.609840578750211, 108.83267767247935]\n"
     ]
    },
    {
     "name": "stdout",
     "output_type": "stream",
     "text": [
      "Eproch 41 param [0.5003828432121102, 0.11099202186169319, 0.10464199533699721, 0.10721346667882757, 0.011249013920965195, 0.2645841310806254, -1.5873192151427582, -0.4551319205983324, 148.47299948523153]\n",
      "Eproch 42 param [0.5020581084983868, 0.10417476260717042, 0.11374871143201905, 0.10875714552313774, 0.01545530791155417, 0.2273184494831185, -1.530557756062946, -0.6010436755952693, 125.59176033877338]\n",
      "Eproch 43 param [0.5043352851922223, 0.11223071055038525, 0.11905093623847543, 0.11201863340817453, 0.01659159668942535, 0.23686391604778756, -1.4689873015163672, -0.5603349057755009, 138.04274517862032]\n",
      "Eproch 44 param [0.5038547815235702, 0.10665469229961351, 0.1101279180855765, 0.11135224149971439, 0.012530420559313055, 0.2648104805759637, -1.276271475920879, -0.535927909931116, 145.266195652386]\n",
      "Eproch 45 param [0.5062036045071531, 0.10335945764916443, 0.10051554231096671, 0.10740707756013616, 0.017661584572034594, 0.2397190835066813, -1.2806916012637775, -0.3549600468755624, 116.64682854123936]\n",
      "Eproch 46 param [0.5050452210771247, 0.10086142830169272, 0.10924488296618022, 0.11932191591180297, 0.014876841687185323, 0.24136719822647626, -1.5698049317867775, -0.32551585746923517, 105.11297756389531]\n",
      "Eproch 47 param [0.5003244821173862, 0.10152240061933067, 0.11354281713780749, 0.1049008025894895, 0.013986676605424854, 0.23956961226011553, -1.2499118856672875, -0.9865179647904134, 144.09684639780414]\n",
      "Eproch 48 param [0.5032049947430502, 0.1014374909052384, 0.1060003380261598, 0.11562365400926897, 0.012933898931806239, 0.22116142797940821, -1.8919858190469259, -0.16228159511370566, 142.60656097954387]\n",
      "Eproch 49 param [0.5089300849112603, 0.10751145544097832, 0.10763232784084943, 0.10583347738518237, 0.010049769511509663, 0.2346538714452338, -1.4374334141961362, -0.7910318985762129, 111.97577295783272]\n",
      "Eproch 50 param [0.5050680362773392, 0.10423550945212469, 0.10429755277900953, 0.1154906161336358, 0.014921584416612772, 0.24846267100207767, -1.4331883359163986, -0.6170269361692287, 130.1644487687643]\n"
     ]
    },
    {
     "ename": "KeyboardInterrupt",
     "evalue": "",
     "output_type": "error",
     "traceback": [
      "\u001b[0;31m---------------------------------------------------------------------------\u001b[0m",
      "\u001b[0;31mKeyboardInterrupt\u001b[0m                         Traceback (most recent call last)",
      "\u001b[0;32m<ipython-input-31-429d440945f5>\u001b[0m in \u001b[0;36m<module>\u001b[0;34m\u001b[0m\n\u001b[1;32m      7\u001b[0m     \u001b[0mprint\u001b[0m\u001b[0;34m(\u001b[0m\u001b[0;34m\"Eproch {} param {}\"\u001b[0m\u001b[0;34m.\u001b[0m\u001b[0mformat\u001b[0m\u001b[0;34m(\u001b[0m\u001b[0m_\u001b[0m\u001b[0;34m,\u001b[0m \u001b[0mparam_list\u001b[0m\u001b[0;34m)\u001b[0m\u001b[0;34m)\u001b[0m\u001b[0;34m\u001b[0m\u001b[0;34m\u001b[0m\u001b[0m\n\u001b[1;32m      8\u001b[0m     \u001b[0mmodel\u001b[0m \u001b[0;34m=\u001b[0m \u001b[0mSinglePathwayModel\u001b[0m\u001b[0;34m(\u001b[0m\u001b[0mparam_list\u001b[0m\u001b[0;34m,\u001b[0m \u001b[0mdt\u001b[0m\u001b[0;34m=\u001b[0m\u001b[0mdt\u001b[0m\u001b[0;34m,\u001b[0m \u001b[0msingle\u001b[0m\u001b[0;34m=\u001b[0m\u001b[0;32mTrue\u001b[0m\u001b[0;34m)\u001b[0m\u001b[0;34m\u001b[0m\u001b[0;34m\u001b[0m\u001b[0m\n\u001b[0;32m----> 9\u001b[0;31m     \u001b[0mres\u001b[0m \u001b[0;34m=\u001b[0m \u001b[0mmodel\u001b[0m\u001b[0;34m.\u001b[0m\u001b[0mrun\u001b[0m\u001b[0;34m(\u001b[0m\u001b[0mstim\u001b[0m\u001b[0;34m)\u001b[0m\u001b[0;34m[\u001b[0m\u001b[0;36m0\u001b[0m\u001b[0;34m]\u001b[0m\u001b[0;34m[\u001b[0m\u001b[0mpre_step\u001b[0m\u001b[0;34m:\u001b[0m\u001b[0;34m]\u001b[0m\u001b[0;34m\u001b[0m\u001b[0;34m\u001b[0m\u001b[0m\n\u001b[0m\u001b[1;32m     10\u001b[0m     \u001b[0mfeature\u001b[0m \u001b[0;34m=\u001b[0m \u001b[0mget_trace_features\u001b[0m\u001b[0;34m(\u001b[0m\u001b[0mres\u001b[0m\u001b[0;34m,\u001b[0m \u001b[0mdt\u001b[0m\u001b[0;34m=\u001b[0m\u001b[0mdt\u001b[0m\u001b[0;34m)\u001b[0m\u001b[0;34m\u001b[0m\u001b[0;34m\u001b[0m\u001b[0m\n\u001b[1;32m     11\u001b[0m     \u001b[0;32massert\u001b[0m \u001b[0mfeature\u001b[0m\u001b[0;34m.\u001b[0m\u001b[0mshape\u001b[0m\u001b[0;34m[\u001b[0m\u001b[0;36m0\u001b[0m\u001b[0;34m]\u001b[0m \u001b[0;34m==\u001b[0m \u001b[0;36m218\u001b[0m\u001b[0;34m\u001b[0m\u001b[0;34m\u001b[0m\u001b[0m\n",
      "\u001b[0;32m~/work/FitNeuron/delfi/Ribon/Franke.py\u001b[0m in \u001b[0;36mrun\u001b[0;34m(self, trace)\u001b[0m\n\u001b[1;32m    159\u001b[0m         \u001b[0;32mif\u001b[0m \u001b[0mself\u001b[0m\u001b[0;34m.\u001b[0m\u001b[0mfb_mode\u001b[0m \u001b[0;34m==\u001b[0m \u001b[0;36m0\u001b[0m\u001b[0;34m:\u001b[0m\u001b[0;34m\u001b[0m\u001b[0;34m\u001b[0m\u001b[0m\n\u001b[1;32m    160\u001b[0m             \u001b[0;32mif\u001b[0m \u001b[0mself\u001b[0m\u001b[0;34m.\u001b[0m\u001b[0msingle\u001b[0m\u001b[0;34m:\u001b[0m\u001b[0;34m\u001b[0m\u001b[0;34m\u001b[0m\u001b[0m\n\u001b[0;32m--> 161\u001b[0;31m                 \u001b[0mribbon1\u001b[0m \u001b[0;34m=\u001b[0m \u001b[0mself\u001b[0m\u001b[0;34m.\u001b[0m\u001b[0mribbon1\u001b[0m\u001b[0;34m.\u001b[0m\u001b[0mrun\u001b[0m\u001b[0;34m(\u001b[0m\u001b[0mtemporal1\u001b[0m\u001b[0;34m)\u001b[0m\u001b[0;34m\u001b[0m\u001b[0;34m\u001b[0m\u001b[0m\n\u001b[0m\u001b[1;32m    162\u001b[0m                 \u001b[0;32mreturn\u001b[0m \u001b[0mribbon1\u001b[0m\u001b[0;34m+\u001b[0m\u001b[0;34m[\u001b[0m\u001b[0mtemporal1\u001b[0m\u001b[0;34m,\u001b[0m \u001b[0msigmoid1\u001b[0m\u001b[0;34m]\u001b[0m\u001b[0;34m\u001b[0m\u001b[0;34m\u001b[0m\u001b[0m\n\u001b[1;32m    163\u001b[0m \u001b[0;34m\u001b[0m\u001b[0m\n",
      "\u001b[0;32m~/work/FitNeuron/delfi/Ribon/models.py\u001b[0m in \u001b[0;36mrun\u001b[0;34m(self, trace, return_rate)\u001b[0m\n\u001b[1;32m     60\u001b[0m         \u001b[0mfull_releases\u001b[0m \u001b[0;34m=\u001b[0m \u001b[0mself\u001b[0m\u001b[0;34m.\u001b[0m\u001b[0mfull_release_func\u001b[0m\u001b[0;34m(\u001b[0m\u001b[0mtrace\u001b[0m\u001b[0;34m,\u001b[0m \u001b[0mself\u001b[0m\u001b[0;34m.\u001b[0m\u001b[0mRRP\u001b[0m\u001b[0;34m)\u001b[0m\u001b[0;34m\u001b[0m\u001b[0;34m\u001b[0m\u001b[0m\n\u001b[1;32m     61\u001b[0m         \u001b[0mgain_infis\u001b[0m \u001b[0;34m=\u001b[0m \u001b[0mself\u001b[0m\u001b[0;34m.\u001b[0m\u001b[0mgain_infi_func\u001b[0m\u001b[0;34m(\u001b[0m\u001b[0mtrace\u001b[0m\u001b[0;34m)\u001b[0m\u001b[0;34m\u001b[0m\u001b[0;34m\u001b[0m\u001b[0m\n\u001b[0;32m---> 62\u001b[0;31m         \u001b[0mgain_taus\u001b[0m \u001b[0;34m=\u001b[0m \u001b[0mself\u001b[0m\u001b[0;34m.\u001b[0m\u001b[0mgain_tau_func\u001b[0m\u001b[0;34m(\u001b[0m\u001b[0mtrace\u001b[0m\u001b[0;34m)\u001b[0m\u001b[0;34m\u001b[0m\u001b[0;34m\u001b[0m\u001b[0m\n\u001b[0m\u001b[1;32m     63\u001b[0m         \u001b[0mgain_taus\u001b[0m\u001b[0;34m[\u001b[0m\u001b[0mgain_taus\u001b[0m \u001b[0;34m<\u001b[0m \u001b[0mself\u001b[0m\u001b[0;34m.\u001b[0m\u001b[0mdt\u001b[0m\u001b[0;34m]\u001b[0m \u001b[0;34m=\u001b[0m \u001b[0mself\u001b[0m\u001b[0;34m.\u001b[0m\u001b[0mdt\u001b[0m\u001b[0;34m\u001b[0m\u001b[0;34m\u001b[0m\u001b[0m\n\u001b[1;32m     64\u001b[0m         \u001b[0mgains\u001b[0m \u001b[0;34m=\u001b[0m \u001b[0;34m[\u001b[0m\u001b[0;34m]\u001b[0m\u001b[0;34m\u001b[0m\u001b[0;34m\u001b[0m\u001b[0m\n",
      "\u001b[0;32m~/anaconda3/envs/py3.6/lib/python3.6/site-packages/numpy/lib/function_base.py\u001b[0m in \u001b[0;36m__call__\u001b[0;34m(self, *args, **kwargs)\u001b[0m\n\u001b[1;32m   2089\u001b[0m             \u001b[0mvargs\u001b[0m\u001b[0;34m.\u001b[0m\u001b[0mextend\u001b[0m\u001b[0;34m(\u001b[0m\u001b[0;34m[\u001b[0m\u001b[0mkwargs\u001b[0m\u001b[0;34m[\u001b[0m\u001b[0m_n\u001b[0m\u001b[0;34m]\u001b[0m \u001b[0;32mfor\u001b[0m \u001b[0m_n\u001b[0m \u001b[0;32min\u001b[0m \u001b[0mnames\u001b[0m\u001b[0;34m]\u001b[0m\u001b[0;34m)\u001b[0m\u001b[0;34m\u001b[0m\u001b[0;34m\u001b[0m\u001b[0m\n\u001b[1;32m   2090\u001b[0m \u001b[0;34m\u001b[0m\u001b[0m\n\u001b[0;32m-> 2091\u001b[0;31m         \u001b[0;32mreturn\u001b[0m \u001b[0mself\u001b[0m\u001b[0;34m.\u001b[0m\u001b[0m_vectorize_call\u001b[0m\u001b[0;34m(\u001b[0m\u001b[0mfunc\u001b[0m\u001b[0;34m=\u001b[0m\u001b[0mfunc\u001b[0m\u001b[0;34m,\u001b[0m \u001b[0margs\u001b[0m\u001b[0;34m=\u001b[0m\u001b[0mvargs\u001b[0m\u001b[0;34m)\u001b[0m\u001b[0;34m\u001b[0m\u001b[0;34m\u001b[0m\u001b[0m\n\u001b[0m\u001b[1;32m   2092\u001b[0m \u001b[0;34m\u001b[0m\u001b[0m\n\u001b[1;32m   2093\u001b[0m     \u001b[0;32mdef\u001b[0m \u001b[0m_get_ufunc_and_otypes\u001b[0m\u001b[0;34m(\u001b[0m\u001b[0mself\u001b[0m\u001b[0;34m,\u001b[0m \u001b[0mfunc\u001b[0m\u001b[0;34m,\u001b[0m \u001b[0margs\u001b[0m\u001b[0;34m)\u001b[0m\u001b[0;34m:\u001b[0m\u001b[0;34m\u001b[0m\u001b[0;34m\u001b[0m\u001b[0m\n",
      "\u001b[0;32m~/anaconda3/envs/py3.6/lib/python3.6/site-packages/numpy/lib/function_base.py\u001b[0m in \u001b[0;36m_vectorize_call\u001b[0;34m(self, func, args)\u001b[0m\n\u001b[1;32m   2165\u001b[0m                       for a in args]\n\u001b[1;32m   2166\u001b[0m \u001b[0;34m\u001b[0m\u001b[0m\n\u001b[0;32m-> 2167\u001b[0;31m             \u001b[0moutputs\u001b[0m \u001b[0;34m=\u001b[0m \u001b[0mufunc\u001b[0m\u001b[0;34m(\u001b[0m\u001b[0;34m*\u001b[0m\u001b[0minputs\u001b[0m\u001b[0;34m)\u001b[0m\u001b[0;34m\u001b[0m\u001b[0;34m\u001b[0m\u001b[0m\n\u001b[0m\u001b[1;32m   2168\u001b[0m \u001b[0;34m\u001b[0m\u001b[0m\n\u001b[1;32m   2169\u001b[0m             \u001b[0;32mif\u001b[0m \u001b[0mufunc\u001b[0m\u001b[0;34m.\u001b[0m\u001b[0mnout\u001b[0m \u001b[0;34m==\u001b[0m \u001b[0;36m1\u001b[0m\u001b[0;34m:\u001b[0m\u001b[0;34m\u001b[0m\u001b[0;34m\u001b[0m\u001b[0m\n",
      "\u001b[0;32m~/anaconda3/envs/py3.6/lib/python3.6/site-packages/numpy/lib/function_base.py\u001b[0m in \u001b[0;36m__call__\u001b[0;34m(self, *args, **kwargs)\u001b[0m\n\u001b[1;32m   2089\u001b[0m             \u001b[0mvargs\u001b[0m\u001b[0;34m.\u001b[0m\u001b[0mextend\u001b[0m\u001b[0;34m(\u001b[0m\u001b[0;34m[\u001b[0m\u001b[0mkwargs\u001b[0m\u001b[0;34m[\u001b[0m\u001b[0m_n\u001b[0m\u001b[0;34m]\u001b[0m \u001b[0;32mfor\u001b[0m \u001b[0m_n\u001b[0m \u001b[0;32min\u001b[0m \u001b[0mnames\u001b[0m\u001b[0;34m]\u001b[0m\u001b[0;34m)\u001b[0m\u001b[0;34m\u001b[0m\u001b[0;34m\u001b[0m\u001b[0m\n\u001b[1;32m   2090\u001b[0m \u001b[0;34m\u001b[0m\u001b[0m\n\u001b[0;32m-> 2091\u001b[0;31m         \u001b[0;32mreturn\u001b[0m \u001b[0mself\u001b[0m\u001b[0;34m.\u001b[0m\u001b[0m_vectorize_call\u001b[0m\u001b[0;34m(\u001b[0m\u001b[0mfunc\u001b[0m\u001b[0;34m=\u001b[0m\u001b[0mfunc\u001b[0m\u001b[0;34m,\u001b[0m \u001b[0margs\u001b[0m\u001b[0;34m=\u001b[0m\u001b[0mvargs\u001b[0m\u001b[0;34m)\u001b[0m\u001b[0;34m\u001b[0m\u001b[0;34m\u001b[0m\u001b[0m\n\u001b[0m\u001b[1;32m   2092\u001b[0m \u001b[0;34m\u001b[0m\u001b[0m\n\u001b[1;32m   2093\u001b[0m     \u001b[0;32mdef\u001b[0m \u001b[0m_get_ufunc_and_otypes\u001b[0m\u001b[0;34m(\u001b[0m\u001b[0mself\u001b[0m\u001b[0;34m,\u001b[0m \u001b[0mfunc\u001b[0m\u001b[0;34m,\u001b[0m \u001b[0margs\u001b[0m\u001b[0;34m)\u001b[0m\u001b[0;34m:\u001b[0m\u001b[0;34m\u001b[0m\u001b[0;34m\u001b[0m\u001b[0m\n",
      "\u001b[0;32m~/anaconda3/envs/py3.6/lib/python3.6/site-packages/numpy/lib/function_base.py\u001b[0m in \u001b[0;36m_vectorize_call\u001b[0;34m(self, func, args)\u001b[0m\n\u001b[1;32m   2159\u001b[0m             \u001b[0mres\u001b[0m \u001b[0;34m=\u001b[0m \u001b[0mfunc\u001b[0m\u001b[0;34m(\u001b[0m\u001b[0;34m)\u001b[0m\u001b[0;34m\u001b[0m\u001b[0;34m\u001b[0m\u001b[0m\n\u001b[1;32m   2160\u001b[0m         \u001b[0;32melse\u001b[0m\u001b[0;34m:\u001b[0m\u001b[0;34m\u001b[0m\u001b[0;34m\u001b[0m\u001b[0m\n\u001b[0;32m-> 2161\u001b[0;31m             \u001b[0mufunc\u001b[0m\u001b[0;34m,\u001b[0m \u001b[0motypes\u001b[0m \u001b[0;34m=\u001b[0m \u001b[0mself\u001b[0m\u001b[0;34m.\u001b[0m\u001b[0m_get_ufunc_and_otypes\u001b[0m\u001b[0;34m(\u001b[0m\u001b[0mfunc\u001b[0m\u001b[0;34m=\u001b[0m\u001b[0mfunc\u001b[0m\u001b[0;34m,\u001b[0m \u001b[0margs\u001b[0m\u001b[0;34m=\u001b[0m\u001b[0margs\u001b[0m\u001b[0;34m)\u001b[0m\u001b[0;34m\u001b[0m\u001b[0;34m\u001b[0m\u001b[0m\n\u001b[0m\u001b[1;32m   2162\u001b[0m \u001b[0;34m\u001b[0m\u001b[0m\n\u001b[1;32m   2163\u001b[0m             \u001b[0;31m# Convert args to object arrays first\u001b[0m\u001b[0;34m\u001b[0m\u001b[0;34m\u001b[0m\u001b[0;34m\u001b[0m\u001b[0m\n",
      "\u001b[0;32m~/anaconda3/envs/py3.6/lib/python3.6/site-packages/numpy/lib/function_base.py\u001b[0m in \u001b[0;36m_get_ufunc_and_otypes\u001b[0;34m(self, func, args)\u001b[0m\n\u001b[1;32m   2113\u001b[0m             \u001b[0;31m# Assumes that ufunc first evaluates the 0th elements in the input\u001b[0m\u001b[0;34m\u001b[0m\u001b[0;34m\u001b[0m\u001b[0;34m\u001b[0m\u001b[0m\n\u001b[1;32m   2114\u001b[0m             \u001b[0;31m# arrays (the input values are not checked to ensure this)\u001b[0m\u001b[0;34m\u001b[0m\u001b[0;34m\u001b[0m\u001b[0;34m\u001b[0m\u001b[0m\n\u001b[0;32m-> 2115\u001b[0;31m             \u001b[0margs\u001b[0m \u001b[0;34m=\u001b[0m \u001b[0;34m[\u001b[0m\u001b[0masarray\u001b[0m\u001b[0;34m(\u001b[0m\u001b[0marg\u001b[0m\u001b[0;34m)\u001b[0m \u001b[0;32mfor\u001b[0m \u001b[0marg\u001b[0m \u001b[0;32min\u001b[0m \u001b[0margs\u001b[0m\u001b[0;34m]\u001b[0m\u001b[0;34m\u001b[0m\u001b[0;34m\u001b[0m\u001b[0m\n\u001b[0m\u001b[1;32m   2116\u001b[0m             \u001b[0;32mif\u001b[0m \u001b[0mbuiltins\u001b[0m\u001b[0;34m.\u001b[0m\u001b[0many\u001b[0m\u001b[0;34m(\u001b[0m\u001b[0marg\u001b[0m\u001b[0;34m.\u001b[0m\u001b[0msize\u001b[0m \u001b[0;34m==\u001b[0m \u001b[0;36m0\u001b[0m \u001b[0;32mfor\u001b[0m \u001b[0marg\u001b[0m \u001b[0;32min\u001b[0m \u001b[0margs\u001b[0m\u001b[0;34m)\u001b[0m\u001b[0;34m:\u001b[0m\u001b[0;34m\u001b[0m\u001b[0;34m\u001b[0m\u001b[0m\n\u001b[1;32m   2117\u001b[0m                 raise ValueError('cannot call `vectorize` on size 0 inputs '\n",
      "\u001b[0;31mKeyboardInterrupt\u001b[0m: "
     ]
    }
   ],
   "source": [
    "_iter = int(1000)\n",
    "for _ in range(_iter):\n",
    "    param_list = list()\n",
    "    for param_range in x:\n",
    "        theta = np.random.uniform(*param_range[0])\n",
    "        param_list.append(theta)\n",
    "    print(\"Eproch {} param {}\".format(_, param_list))\n",
    "    model = SinglePathwayModel(param_list, dt=dt, single=True)\n",
    "    res = model.run(stim)[0][pre_step:]\n",
    "    feature = get_trace_features(res, dt=dt)\n",
    "    assert feature.shape[0] == 218"
   ]
  },
  {
   "cell_type": "raw",
   "metadata": {},
   "source": []
  },
  {
   "cell_type": "code",
   "execution_count": 5,
   "metadata": {
    "scrolled": true
   },
   "outputs": [
    {
     "name": "stderr",
     "output_type": "stream",
     "text": [
      "/home/skw/anaconda3/envs/py3.6/lib/python3.6/site-packages/scipy/optimize/minpack.py:799: OptimizeWarning: Covariance of the parameters could not be estimated\n",
      "  category=OptimizeWarning)\n"
     ]
    }
   ],
   "source": [
    "x_list = list()\n",
    "for i in range(int(1e4)):\n",
    "    x = np.random.random(response.shape)\n",
    "    x_list.append(x)\n",
    "    get_trace_features(x, dt=dt).shape"
   ]
  },
  {
   "cell_type": "code",
   "execution_count": 6,
   "metadata": {},
   "outputs": [],
   "source": [
    "x = np.concatenate(x_list)"
   ]
  },
  {
   "cell_type": "code",
   "execution_count": null,
   "metadata": {},
   "outputs": [],
   "source": [
    "x_list[12]"
   ]
  },
  {
   "cell_type": "code",
   "execution_count": null,
   "metadata": {},
   "outputs": [],
   "source": [
    "feature_x = get_trace_features(x_list[12], dt=dt)\n",
    "feature_x.shape"
   ]
  },
  {
   "cell_type": "code",
   "execution_count": null,
   "metadata": {},
   "outputs": [],
   "source": [
    "feature_x"
   ]
  },
  {
   "cell_type": "code",
   "execution_count": null,
   "metadata": {},
   "outputs": [],
   "source": [
    "plt.plot(x * 100)"
   ]
  },
  {
   "cell_type": "code",
   "execution_count": null,
   "metadata": {},
   "outputs": [],
   "source": [
    "np.save('wrong_trace.npy', x)"
   ]
  },
  {
   "cell_type": "code",
   "execution_count": null,
   "metadata": {},
   "outputs": [],
   "source": [
    "response.shape"
   ]
  },
  {
   "cell_type": "code",
   "execution_count": null,
   "metadata": {},
   "outputs": [],
   "source": [
    "pre_step"
   ]
  },
  {
   "cell_type": "code",
   "execution_count": null,
   "metadata": {},
   "outputs": [],
   "source": [
    "plt.plot(stim, c='b')"
   ]
  },
  {
   "cell_type": "code",
   "execution_count": null,
   "metadata": {},
   "outputs": [],
   "source": [
    "plt.plot(response, c='r')"
   ]
  },
  {
   "cell_type": "code",
   "execution_count": null,
   "metadata": {},
   "outputs": [],
   "source": [
    "model = SinglePathwayModel(np.random.random((9)), dt=dt, single=True)"
   ]
  },
  {
   "cell_type": "code",
   "execution_count": null,
   "metadata": {},
   "outputs": [],
   "source": [
    "random_response = model.run(stim)"
   ]
  },
  {
   "cell_type": "code",
   "execution_count": null,
   "metadata": {},
   "outputs": [],
   "source": [
    "from delfi.simulator.BaseSimulator import BaseSimulator\n",
    "\n",
    "class Ribon(BaseSimulator):\n",
    "    def __init__(self, I, dt, dim_param, pre_step, Model, seed=None):\n",
    "        \"\"\"Ribon simulator\n",
    "\n",
    "        Parameters\n",
    "        ----------\n",
    "        I : array\n",
    "            Numpy array with the input current\n",
    "        dt : float\n",
    "            Timestep\n",
    "        dim_param : int\n",
    "            Number of parameter\n",
    "        pre_step : int\n",
    "            Number of time points before the stimuli\n",
    "        seed : int or None\n",
    "            If set, randomness across runs is disabled\n",
    "        \"\"\"\n",
    "\n",
    "        super().__init__(dim_param=dim_param, seed=seed)\n",
    "        self.I = I\n",
    "        self.dt = dt\n",
    "        self.t = np.arange(0, len(self.I), 1)*self.dt\n",
    "        self.RibonModel = Model\n",
    "        self.pre_step = pre_step\n",
    "\n",
    "    def gen_single(self, params):\n",
    "        \"\"\"Forward model for simulator for single parameter set\n",
    "\n",
    "        Parameters\n",
    "        ----------\n",
    "        params : list or np.array, 1d of length dim_param\n",
    "            Parameter vector\n",
    "\n",
    "        Returns\n",
    "        -------\n",
    "        dict : dictionary with data\n",
    "            The dictionary must contain a key data that contains the results of\n",
    "            the forward run. Additional entries can be present.\n",
    "        \"\"\"\n",
    "        params = np.asarray(params)\n",
    "\n",
    "        assert params.ndim == 1, 'params.ndim must be 1'\n",
    "\n",
    "        hh_seed = self.gen_newseed()\n",
    "\n",
    "        model = self.RibonModel(params, dt=self.dt, single=True)\n",
    "        states = model.run(self.I)[0][pre_step:]\n",
    "\n",
    "        return {'data': states.reshape(-1),\n",
    "                'time': self.t,\n",
    "                'dt': self.dt,\n",
    "                'I': self.I}"
   ]
  },
  {
   "cell_type": "code",
   "execution_count": null,
   "metadata": {},
   "outputs": [],
   "source": [
    "param_dim = 9\n",
    "RibonSimulator = Ribon(stim, dt, param_dim, pre_step, SinglePathwayModel)"
   ]
  },
  {
   "cell_type": "code",
   "execution_count": null,
   "metadata": {},
   "outputs": [],
   "source": [
    "data = RibonSimulator.gen_single(np.random.random((9)))"
   ]
  },
  {
   "cell_type": "code",
   "execution_count": null,
   "metadata": {},
   "outputs": [],
   "source": [
    "plt.plot(data['data'])"
   ]
  },
  {
   "cell_type": "code",
   "execution_count": null,
   "metadata": {},
   "outputs": [],
   "source": [
    "from delfi.summarystats.BaseSummaryStats import BaseSummaryStats\n",
    "from scipy import stats as spstats\n",
    "\n",
    "class RibonStats(BaseSummaryStats):\n",
    "    \"\"\"Moment based SummaryStats class for the Ribon model\n",
    "\n",
    "    Calculates summary statistics\n",
    "    \"\"\"\n",
    "    def __init__(self, t_on, t_off, dt, n_summary, seed=None):\n",
    "        \"\"\"See SummaryStats.py for docstring\"\"\"\n",
    "        super(RibonStats, self).__init__(seed=seed)\n",
    "        self.t_on = t_on\n",
    "        self.t_off = t_off\n",
    "        self.dt = dt\n",
    "        self.n_summary = n_summary\n",
    "\n",
    "    def calc(self, repetition_list):\n",
    "        \"\"\"Calculate summary statistics\n",
    "\n",
    "        Parameters\n",
    "        ----------\n",
    "        repetition_list : list of dictionaries, one per repetition\n",
    "            data list, returned by `gen` method of Simulator instance\n",
    "\n",
    "        Returns\n",
    "        -------\n",
    "        np.array, 2d with n_reps x n_summary\n",
    "        \"\"\"\n",
    "        stats = []\n",
    "        for r in range(len(repetition_list)):\n",
    "            x = repetition_list[r]\n",
    "            # sum_stats_vec = get_trace_features(x['data'], self.dt)\n",
    "            sum_stats_vec = x['data']\n",
    "            stats.append(sum_stats_vec)\n",
    "\n",
    "        return np.asarray(stats)"
   ]
  },
  {
   "cell_type": "code",
   "execution_count": 46,
   "metadata": {},
   "outputs": [],
   "source": [
    "x = [np.array([[0.5, 4]]),  # half of sigmoid\n",
    "     np.array([[0.1, 3]]), # slope of sigmoid\n",
    "     np.array([[0.1, 5]]), # maximum of sigmoid\n",
    "     np.array([[0.1, 50]]), # tau fo temporal filter\n",
    "     np.array([[0.01, 2]]), # k of gain infi\n",
    "     np.array([[0.2, 3]]), # m of gain infi\n",
    "     np.array([[-2, +2]]), # half of gain tau\n",
    "     np.array([[-1, +1]]), # slope of gain tau\n",
    "     np.array([[100, 1500]])] # max of gain tau"
   ]
  },
  {
   "cell_type": "code",
   "execution_count": 47,
   "metadata": {},
   "outputs": [],
   "source": [
    "import delfi.distribution as dd\n",
    "\n",
    "seed_p = 2\n",
    "prior_min = np.concatenate(x, axis=0)[:, 0]\n",
    "prior_max = np.concatenate(x, axis=0)[:, 1]\n",
    "prior = dd.Uniform(lower=prior_min, upper=prior_max,seed=seed_p)"
   ]
  },
  {
   "cell_type": "code",
   "execution_count": null,
   "metadata": {},
   "outputs": [],
   "source": [
    "import delfi.generator as dg\n",
    "\n",
    "# input current, time step\n",
    "t_on = 0\n",
    "t_off = len(stim)\n",
    "\n",
    "# seeds\n",
    "seed_m = 1\n",
    "\n",
    "# summary statistics hyperparameters\n",
    "n_summary = 218\n",
    "\n",
    "# define model, prior, summary statistics and generator classes\n",
    "s = RibonStats(t_on=t_on, t_off=t_off, dt=dt, n_summary=n_summary)\n",
    "\n",
    "n_processes = 5\n",
    "\n",
    "seeds_m = np.arange(1, n_processes+1, 1)\n",
    "m = []\n",
    "for i in range(n_processes):\n",
    "    m.append(Ribon(stim, dt, param_dim, pre_step, SinglePathwayModel, seed=seeds_m[i]))\n",
    "g = dg.MPGenerator(models=m, prior=prior, summary=s)"
   ]
  },
  {
   "cell_type": "code",
   "execution_count": null,
   "metadata": {},
   "outputs": [],
   "source": [
    "seed_inf = 1\n",
    "\n",
    "pilot_samples = 10\n",
    "\n",
    "# training schedule\n",
    "n_train = 10\n",
    "n_rounds = 1\n",
    "\n",
    "# fitting setup\n",
    "minibatch = 10\n",
    "epochs = 10\n",
    "val_frac = 0.05\n",
    "\n",
    "# network setup\n",
    "n_hiddens = [50,50]\n",
    "\n",
    "# convenience\n",
    "prior_norm = True\n",
    "\n",
    "# MAF parameters\n",
    "density = 'maf'\n",
    "n_mades = 5         # number of MADES"
   ]
  },
  {
   "cell_type": "code",
   "execution_count": null,
   "metadata": {
    "scrolled": true
   },
   "outputs": [],
   "source": [
    "import delfi.inference as infer\n",
    "\n",
    "# inference object\n",
    "res = infer.SNPEC(g,\n",
    "                obs=response,\n",
    "                n_hiddens=n_hiddens,\n",
    "                seed=seed_inf,\n",
    "                pilot_samples=pilot_samples,\n",
    "                n_mades=n_mades,\n",
    "                prior_norm=prior_norm,\n",
    "                density=density)"
   ]
  },
  {
   "cell_type": "code",
   "execution_count": null,
   "metadata": {},
   "outputs": [],
   "source": [
    "# train\n",
    "log, _, posterior = res.run(\n",
    "                    n_train=n_train,\n",
    "                    n_rounds=n_rounds,\n",
    "                    minibatch=minibatch,\n",
    "                    epochs=epochs,\n",
    "                    silent_fail=False,\n",
    "                    proposal='prior',\n",
    "                    val_frac=val_frac,\n",
    "                    verbose=True,)"
   ]
  },
  {
   "cell_type": "code",
   "execution_count": null,
   "metadata": {},
   "outputs": [],
   "source": [
    "import delfi"
   ]
  },
  {
   "cell_type": "code",
   "execution_count": null,
   "metadata": {},
   "outputs": [],
   "source": [
    "dir(delfi.)"
   ]
  },
  {
   "cell_type": "code",
   "execution_count": null,
   "metadata": {},
   "outputs": [],
   "source": [
    "log"
   ]
  },
  {
   "cell_type": "code",
   "execution_count": null,
   "metadata": {},
   "outputs": [],
   "source": [
    "fig = plt.figure(figsize=(15,5))\n",
    "\n",
    "plt.plot(log[0]['loss'],lw=2)\n",
    "plt.xlabel('iteration')\n",
    "plt.ylabel('loss');"
   ]
  },
  {
   "cell_type": "code",
   "execution_count": null,
   "metadata": {},
   "outputs": [],
   "source": [
    "from delfi.utils.viz import samples_nd\n",
    "\n",
    "prior_min = g.prior.lower\n",
    "prior_max = g.prior.upper\n",
    "prior_lims = np.concatenate((prior_min.reshape(-1,1),prior_max.reshape(-1,1)),axis=1)\n",
    "\n",
    "posterior_samples = posterior[0].gen(10000)\n",
    "\n",
    "###################\n",
    "# colors\n",
    "hex2rgb = lambda h: tuple(int(h[i:i+2], 16) for i in (0, 2, 4))\n",
    "\n",
    "# RGB colors in [0, 255]\n",
    "col = {}\n",
    "col['GT']      = hex2rgb('30C05D')\n",
    "col['SNPE']    = hex2rgb('2E7FE8')\n",
    "col['SAMPLE1'] = hex2rgb('8D62BC')\n",
    "col['SAMPLE2'] = hex2rgb('AF99EF')\n",
    "\n",
    "# convert to RGB colors in [0, 1]\n",
    "for k, v in col.items():\n",
    "    col[k] = tuple([i/255 for i in v])\n",
    "\n",
    "labels_params = [ str(i) for i in range(9)]\n",
    "###################\n",
    "# posterior\n",
    "fig, axes = samples_nd(posterior_samples,\n",
    "                       limits=prior_lims,\n",
    "                       ticks=prior_lims,\n",
    "                       labels=labels_params,\n",
    "                       fig_size=(5,5),\n",
    "                       diag='kde',\n",
    "                       upper='kde',\n",
    "                       hist_diag={'bins': 50},\n",
    "                       hist_offdiag={'bins': 50},\n",
    "                       kde_diag={'bins': 50, 'color': col['SNPE']},\n",
    "                       kde_offdiag={'bins': 50},\n",
    "                       # points=[true_params],\n",
    "                       points_offdiag={'markersize': 5},\n",
    "                       points_colors=[col['GT']],\n",
    "                       title='');\n",
    "\n",
    "\n"
   ]
  },
  {
   "cell_type": "code",
   "execution_count": null,
   "metadata": {},
   "outputs": [],
   "source": []
  }
 ],
 "metadata": {
  "kernelspec": {
   "display_name": "Python 3",
   "language": "python",
   "name": "python3"
  },
  "language_info": {
   "codemirror_mode": {
    "name": "ipython",
    "version": 3
   },
   "file_extension": ".py",
   "mimetype": "text/x-python",
   "name": "python",
   "nbconvert_exporter": "python",
   "pygments_lexer": "ipython3",
   "version": "3.6.8"
  }
 },
 "nbformat": 4,
 "nbformat_minor": 2
}
