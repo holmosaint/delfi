{
 "cells": [
  {
   "cell_type": "code",
   "execution_count": 6,
   "metadata": {},
   "outputs": [],
   "source": [
    "import numpy as np\n",
    "import sys\n",
    "from tmp.Franke import SinglePathwayModel\n",
    "from tmp.Franke import *\n",
    "from tmp.Franke_feature import get_trace_features\n",
    "import matplotlib.pyplot as plt\n",
    "import os\n",
    "import h5py"
   ]
  },
  {
   "cell_type": "code",
   "execution_count": 7,
   "metadata": {},
   "outputs": [],
   "source": [
    "dt = 2"
   ]
  },
  {
   "cell_type": "code",
   "execution_count": 8,
   "metadata": {},
   "outputs": [],
   "source": [
    "pre_step, stim, response = get_data_pair_lchirp(1, 20000, DATATYPE=1, dt=dt)"
   ]
  },
  {
   "cell_type": "code",
   "execution_count": 9,
   "metadata": {},
   "outputs": [],
   "source": [
    "true_feature = get_trace_features(response, dt=dt)"
   ]
  },
  {
   "cell_type": "code",
   "execution_count": 10,
   "metadata": {},
   "outputs": [
    {
     "data": {
      "text/plain": [
       "(218,)"
      ]
     },
     "execution_count": 10,
     "metadata": {},
     "output_type": "execute_result"
    }
   ],
   "source": [
    "true_feature.shape"
   ]
  },
  {
   "cell_type": "code",
   "execution_count": null,
   "metadata": {
    "scrolled": true
   },
   "outputs": [],
   "source": [
    "labels_params = [\n",
    "            r'${sigmoid}_{HALF}$',\n",
    "            r'${sigmoid}_{SLOPE}$',\n",
    "            r'${sigmoid}_{MAX}$', r'$\\tau_{TF}$',\n",
    "            r'$g\\_{INF}_k$', r'$g\\_{INF}_k$',\n",
    "            r'$g\\_\\tau_{HALF}$', r'$g\\_\\tau_{SLOPE}$',\n",
    "            r'$g\\_\\tau_{MAX}$'\n",
    "        ]\n",
    "\n",
    "base_dir = './Result/He/atomic_comb_maf_2000'.format(1)\n",
    "post_params_file = os.path.join(base_dir, 'param_samples.npy')\n",
    "\n",
    "params = np.load(post_params_file)\n",
    "\n",
    "fig = plt.figure(figsize=(20, 12))\n",
    "for i in range(params.shape[-1]):\n",
    "    plt.subplot(3, 3, i + 1)\n",
    "    plt.hist(params[:, i])\n",
    "    plt.xlabel(labels_params[i])\n",
    "plt.savefig(os.path.join(base_dir, 'param_hist.png'), dpi=400)\n"
   ]
  },
  {
   "cell_type": "code",
   "execution_count": null,
   "metadata": {},
   "outputs": [],
   "source": [
    "means_params = np.mean(params, axis=0)\n",
    "\n",
    "model = SinglePathwayModel(means_params, dt=dt, single=True)\n",
    "res = model.run(stim)[0][pre_step:]\n",
    "feature = get_trace_features(res, dt=dt)\n",
    "\n",
    "plt.plot(response, c='b', label='True')\n",
    "plt.plot(res, c='r', label='Prediction')\n",
    "plt.legend()\n",
    "plt.savefig(os.path.join(base_dir, 'response_contrast.png'), dpi=400)\n"
   ]
  },
  {
   "cell_type": "code",
   "execution_count": null,
   "metadata": {},
   "outputs": [],
   "source": [
    "plt.plot(true_feature, c='b', label='True')\n",
    "plt.plot(feature, c='r', label='Prediction')\n",
    "plt.legend()\n",
    "plt.savefig(os.path.join(base_dir, 'feature_contrast.png'), dpi=400)"
   ]
  },
  {
   "cell_type": "code",
   "execution_count": null,
   "metadata": {
    "scrolled": true
   },
   "outputs": [],
   "source": [
    "for i in range(3, 10):\n",
    "    print(\"Processing {}\".format(i))\n",
    "    base_dir = './Result/exp_{}'.format(i)\n",
    "    post_params_file = os.path.join(base_dir, 'posterior_samples.npy')\n",
    "    \n",
    "    params = np.load(post_params_file)\n",
    "\n",
    "    fig = plt.figure(figsize=(20, 12))\n",
    "    for i in range(params.shape[-1]):\n",
    "        plt.subplot(3, 3, i + 1)\n",
    "        plt.hist(params[:, i])\n",
    "        plt.xlabel(labels_params[i])\n",
    "    plt.savefig(os.path.join(base_dir, 'param_hist.png'), dpi=400)\n",
    "    plt.clf()\n",
    "\n",
    "    means_params = np.mean(params, axis=0)\n",
    "    means_params\n",
    "\n",
    "    model = SinglePathwayModel(means_params, dt=dt, single=True)\n",
    "    res = model.run(stim)[0][pre_step:]\n",
    "    feature = get_trace_features(res, dt=dt)\n",
    "\n",
    "    plt.plot(response, c='b', label='True')\n",
    "    plt.plot(res, c='r', label='Prediction')\n",
    "    plt.legend()\n",
    "    plt.savefig(os.path.join(base_dir, 'response_contrast.png'), dpi=400)\n",
    "    plt.clf()\n",
    "\n",
    "    plt.plot(true_feature, c='b', label='True')\n",
    "    plt.plot(feature, c='r', label='Prediction')\n",
    "    plt.legend()\n",
    "    plt.savefig(os.path.join(base_dir, 'feature_contrast.png'), dpi=400)\n",
    "    plt.clf()\n"
   ]
  },
  {
   "cell_type": "code",
   "execution_count": 11,
   "metadata": {},
   "outputs": [],
   "source": [
    "param_ranges = [np.array([[0.5, 4]]),  # half of sigmoid\n",
    "     np.array([[0.1, 3]]), # slope of sigmoid\n",
    "     np.array([[0.1, 5]]), # maximum of sigmoid\n",
    "     np.array([[0.1, 50]]), # tau fo temporal filter\n",
    "     np.array([[0.01, 2]]), # k of gain infi\n",
    "     np.array([[0.2, 3]]), # m of gain infi\n",
    "     np.array([[-2, +2]]), # half of gain tau\n",
    "     np.array([[-1, +1]]), # slope of gain tau\n",
    "     np.array([[100, 1500]])] # max of gain tau"
   ]
  },
  {
   "cell_type": "code",
   "execution_count": null,
   "metadata": {
    "scrolled": true
   },
   "outputs": [],
   "source": [
    "_iter = int(5000)\n",
    "res_list = list()\n",
    "param_list = list()\n",
    "for _ in range(_iter):\n",
    "    print(\"Processing {}\".format(_), end='\\r')\n",
    "    params = list()\n",
    "    for param_range in param_ranges:\n",
    "        theta = np.random.uniform(*param_range[0])\n",
    "        params.append(theta)\n",
    "    model = SinglePathwayModel(params, dt=dt, single=True)\n",
    "    res = model.run(stim)[0][pre_step:]\n",
    "    param_list.append(params)\n",
    "    res_list.append(res)"
   ]
  },
  {
   "cell_type": "code",
   "execution_count": null,
   "metadata": {},
   "outputs": [],
   "source": [
    "res_array = np.array(res_list)\n",
    "res_array.shape"
   ]
  },
  {
   "cell_type": "code",
   "execution_count": 12,
   "metadata": {},
   "outputs": [
    {
     "data": {
      "text/plain": [
       "<KeysViewHDF5 ['param_data', 'stats_data']>"
      ]
     },
     "execution_count": 12,
     "metadata": {},
     "output_type": "execute_result"
    }
   ],
   "source": [
    "base_dir = './Data/Curve_data'\n",
    "data_file = h5py.File(os.path.join(base_dir, \"Ribon_curve_0.h5\"), 'r')\n",
    "data_file.keys()"
   ]
  },
  {
   "cell_type": "code",
   "execution_count": 13,
   "metadata": {},
   "outputs": [],
   "source": [
    "param_data = data_file.get('param_data')[...]\n",
    "stats_data = data_file.get('stats_data')[...]"
   ]
  },
  {
   "cell_type": "code",
   "execution_count": 14,
   "metadata": {},
   "outputs": [],
   "source": [
    "for i in range(1, 5):\n",
    "    with h5py.File(os.path.join(base_dir, \"Ribon_curve_{}.h5\".format(i)), 'r') as data_file:\n",
    "        sub_param_data = data_file.get('param_data')[...]\n",
    "        sub_stats_data = data_file.get('stats_data')[...]\n",
    "        param_data = np.concatenate((param_data, sub_param_data), axis=0)\n",
    "        stats_data = np.concatenate((stats_data, sub_stats_data), axis=0)"
   ]
  },
  {
   "cell_type": "code",
   "execution_count": 15,
   "metadata": {},
   "outputs": [
    {
     "data": {
      "text/plain": [
       "(10000, 15996)"
      ]
     },
     "execution_count": 15,
     "metadata": {},
     "output_type": "execute_result"
    }
   ],
   "source": [
    "stats_data.shape"
   ]
  },
  {
   "cell_type": "code",
   "execution_count": 16,
   "metadata": {},
   "outputs": [
    {
     "data": {
      "text/plain": [
       "(10000, 9)"
      ]
     },
     "execution_count": 16,
     "metadata": {},
     "output_type": "execute_result"
    }
   ],
   "source": [
    "param_data.shape"
   ]
  },
  {
   "cell_type": "code",
   "execution_count": 51,
   "metadata": {},
   "outputs": [],
   "source": [
    "new_file = h5py.File(os.path.join(base_dir, 'TimeContrastive.h5'), 'w')"
   ]
  },
  {
   "cell_type": "code",
   "execution_count": 21,
   "metadata": {},
   "outputs": [],
   "source": [
    "time_contrastive_data = np.zeros((10000 * 3, 15996 // 3))\n",
    "time_contrastive_label = np.zeros((10000 * 3, 1))"
   ]
  },
  {
   "cell_type": "code",
   "execution_count": 22,
   "metadata": {},
   "outputs": [],
   "source": [
    "for i in range(3):\n",
    "    time_contrastive_data[i*10000:(i+1)*10000, :] = stats_data[:, i*5332:(i+1)*5332]\n",
    "    time_contrastive_label[i*10000:(i+1)*10000, :] = np.ones((10000, 1)) * i"
   ]
  },
  {
   "cell_type": "code",
   "execution_count": 43,
   "metadata": {},
   "outputs": [],
   "source": [
    "time_contrastive_data = time_contrastive_data.reshape(10000 * 3, 1, 15996//3).astype(np.float32)\n",
    "time_contrastive_label = time_contrastive_label.reshape(10000 * 3).astype(np.int64)"
   ]
  },
  {
   "cell_type": "code",
   "execution_count": 47,
   "metadata": {},
   "outputs": [],
   "source": [
    "import random\n",
    "sample_ID = list(range(10000 * 3))\n",
    "random.shuffle(sample_ID)"
   ]
  },
  {
   "cell_type": "code",
   "execution_count": 48,
   "metadata": {},
   "outputs": [
    {
     "data": {
      "text/plain": [
       "(30000, 1, 5332)"
      ]
     },
     "execution_count": 48,
     "metadata": {},
     "output_type": "execute_result"
    }
   ],
   "source": [
    "time_contrastive_data = time_contrastive_data[sample_ID]\n",
    "time_contrastive_data.shape"
   ]
  },
  {
   "cell_type": "code",
   "execution_count": 49,
   "metadata": {},
   "outputs": [
    {
     "data": {
      "text/plain": [
       "(30000,)"
      ]
     },
     "execution_count": 49,
     "metadata": {},
     "output_type": "execute_result"
    }
   ],
   "source": [
    "time_contrastive_label = time_contrastive_label[sample_ID]\n",
    "time_contrastive_label.shape"
   ]
  },
  {
   "cell_type": "code",
   "execution_count": 52,
   "metadata": {},
   "outputs": [
    {
     "data": {
      "text/plain": [
       "<HDF5 dataset \"label\": shape (30000,), type \"<i8\">"
      ]
     },
     "execution_count": 52,
     "metadata": {},
     "output_type": "execute_result"
    }
   ],
   "source": [
    "new_file.create_dataset('trace', data=time_contrastive_data)\n",
    "new_file.create_dataset('label', data=time_contrastive_label)"
   ]
  },
  {
   "cell_type": "code",
   "execution_count": 53,
   "metadata": {},
   "outputs": [],
   "source": [
    "new_file.close()"
   ]
  },
  {
   "cell_type": "code",
   "execution_count": null,
   "metadata": {},
   "outputs": [],
   "source": [
    "stats_data_list = [stats_data[:5000, :5000], stats_data[:5000, 5000:10000], stats_data[:5000, 10000:]]"
   ]
  },
  {
   "cell_type": "code",
   "execution_count": null,
   "metadata": {},
   "outputs": [],
   "source": [
    "from sklearn.decomposition import PCA"
   ]
  },
  {
   "cell_type": "code",
   "execution_count": null,
   "metadata": {},
   "outputs": [],
   "source": [
    "pca_list = [PCA(n_components=25), PCA(n_components=25), PCA(n_components=25)]"
   ]
  },
  {
   "cell_type": "code",
   "execution_count": null,
   "metadata": {},
   "outputs": [],
   "source": [
    "for i in range(3):\n",
    "    pca_list[i].fit(stats_data_list[i])"
   ]
  },
  {
   "cell_type": "code",
   "execution_count": null,
   "metadata": {},
   "outputs": [],
   "source": [
    "for i in range(3):\n",
    "    np.save(\"PCA_{}.npy\".format(i), pca_list[i].components_)"
   ]
  },
  {
   "cell_type": "raw",
   "metadata": {},
   "source": []
  },
  {
   "cell_type": "code",
   "execution_count": null,
   "metadata": {
    "scrolled": true
   },
   "outputs": [],
   "source": [
    "x_list = list()\n",
    "for i in range(int(1e4)):\n",
    "    x = np.random.random(response.shape)\n",
    "    x_list.append(x)\n",
    "    get_trace_features(x, dt=dt).shape"
   ]
  },
  {
   "cell_type": "code",
   "execution_count": null,
   "metadata": {},
   "outputs": [],
   "source": [
    "x = np.concatenate(x_list)"
   ]
  },
  {
   "cell_type": "code",
   "execution_count": null,
   "metadata": {},
   "outputs": [],
   "source": [
    "x_list[12]"
   ]
  },
  {
   "cell_type": "code",
   "execution_count": null,
   "metadata": {},
   "outputs": [],
   "source": [
    "feature_x = get_trace_features(x_list[12], dt=dt)\n",
    "feature_x.shape"
   ]
  },
  {
   "cell_type": "code",
   "execution_count": null,
   "metadata": {},
   "outputs": [],
   "source": [
    "feature_x"
   ]
  },
  {
   "cell_type": "code",
   "execution_count": null,
   "metadata": {},
   "outputs": [],
   "source": [
    "plt.plot(x * 100)"
   ]
  },
  {
   "cell_type": "code",
   "execution_count": null,
   "metadata": {},
   "outputs": [],
   "source": [
    "np.save('wrong_trace.npy', x)"
   ]
  },
  {
   "cell_type": "code",
   "execution_count": null,
   "metadata": {},
   "outputs": [],
   "source": [
    "response.shape"
   ]
  },
  {
   "cell_type": "code",
   "execution_count": null,
   "metadata": {},
   "outputs": [],
   "source": [
    "pre_step"
   ]
  },
  {
   "cell_type": "code",
   "execution_count": null,
   "metadata": {},
   "outputs": [],
   "source": [
    "plt.plot(stim, c='b')"
   ]
  },
  {
   "cell_type": "code",
   "execution_count": null,
   "metadata": {},
   "outputs": [],
   "source": [
    "plt.plot(response, c='r')"
   ]
  },
  {
   "cell_type": "code",
   "execution_count": null,
   "metadata": {},
   "outputs": [],
   "source": [
    "model = SinglePathwayModel(np.random.random((9)), dt=dt, single=True)"
   ]
  },
  {
   "cell_type": "code",
   "execution_count": null,
   "metadata": {},
   "outputs": [],
   "source": [
    "random_response = model.run(stim)"
   ]
  },
  {
   "cell_type": "code",
   "execution_count": null,
   "metadata": {},
   "outputs": [],
   "source": [
    "from delfi.simulator.BaseSimulator import BaseSimulator\n",
    "\n",
    "class Ribon(BaseSimulator):\n",
    "    def __init__(self, I, dt, dim_param, pre_step, Model, seed=None):\n",
    "        \"\"\"Ribon simulator\n",
    "\n",
    "        Parameters\n",
    "        ----------\n",
    "        I : array\n",
    "            Numpy array with the input current\n",
    "        dt : float\n",
    "            Timestep\n",
    "        dim_param : int\n",
    "            Number of parameter\n",
    "        pre_step : int\n",
    "            Number of time points before the stimuli\n",
    "        seed : int or None\n",
    "            If set, randomness across runs is disabled\n",
    "        \"\"\"\n",
    "\n",
    "        super().__init__(dim_param=dim_param, seed=seed)\n",
    "        self.I = I\n",
    "        self.dt = dt\n",
    "        self.t = np.arange(0, len(self.I), 1)*self.dt\n",
    "        self.RibonModel = Model\n",
    "        self.pre_step = pre_step\n",
    "\n",
    "    def gen_single(self, params):\n",
    "        \"\"\"Forward model for simulator for single parameter set\n",
    "\n",
    "        Parameters\n",
    "        ----------\n",
    "        params : list or np.array, 1d of length dim_param\n",
    "            Parameter vector\n",
    "\n",
    "        Returns\n",
    "        -------\n",
    "        dict : dictionary with data\n",
    "            The dictionary must contain a key data that contains the results of\n",
    "            the forward run. Additional entries can be present.\n",
    "        \"\"\"\n",
    "        params = np.asarray(params)\n",
    "\n",
    "        assert params.ndim == 1, 'params.ndim must be 1'\n",
    "\n",
    "        hh_seed = self.gen_newseed()\n",
    "\n",
    "        model = self.RibonModel(params, dt=self.dt, single=True)\n",
    "        states = model.run(self.I)[0][pre_step:]\n",
    "\n",
    "        return {'data': states.reshape(-1),\n",
    "                'time': self.t,\n",
    "                'dt': self.dt,\n",
    "                'I': self.I}"
   ]
  },
  {
   "cell_type": "code",
   "execution_count": null,
   "metadata": {},
   "outputs": [],
   "source": [
    "param_dim = 9\n",
    "RibonSimulator = Ribon(stim, dt, param_dim, pre_step, SinglePathwayModel)"
   ]
  },
  {
   "cell_type": "code",
   "execution_count": null,
   "metadata": {},
   "outputs": [],
   "source": [
    "data = RibonSimulator.gen_single(np.random.random((9)))"
   ]
  },
  {
   "cell_type": "code",
   "execution_count": null,
   "metadata": {},
   "outputs": [],
   "source": [
    "plt.plot(data['data'])"
   ]
  },
  {
   "cell_type": "code",
   "execution_count": null,
   "metadata": {},
   "outputs": [],
   "source": [
    "from delfi.summarystats.BaseSummaryStats import BaseSummaryStats\n",
    "from scipy import stats as spstats\n",
    "\n",
    "class RibonStats(BaseSummaryStats):\n",
    "    \"\"\"Moment based SummaryStats class for the Ribon model\n",
    "\n",
    "    Calculates summary statistics\n",
    "    \"\"\"\n",
    "    def __init__(self, t_on, t_off, dt, n_summary, seed=None):\n",
    "        \"\"\"See SummaryStats.py for docstring\"\"\"\n",
    "        super(RibonStats, self).__init__(seed=seed)\n",
    "        self.t_on = t_on\n",
    "        self.t_off = t_off\n",
    "        self.dt = dt\n",
    "        self.n_summary = n_summary\n",
    "\n",
    "    def calc(self, repetition_list):\n",
    "        \"\"\"Calculate summary statistics\n",
    "\n",
    "        Parameters\n",
    "        ----------\n",
    "        repetition_list : list of dictionaries, one per repetition\n",
    "            data list, returned by `gen` method of Simulator instance\n",
    "\n",
    "        Returns\n",
    "        -------\n",
    "        np.array, 2d with n_reps x n_summary\n",
    "        \"\"\"\n",
    "        stats = []\n",
    "        for r in range(len(repetition_list)):\n",
    "            x = repetition_list[r]\n",
    "            # sum_stats_vec = get_trace_features(x['data'], self.dt)\n",
    "            sum_stats_vec = x['data']\n",
    "            stats.append(sum_stats_vec)\n",
    "\n",
    "        return np.asarray(stats)"
   ]
  },
  {
   "cell_type": "code",
   "execution_count": null,
   "metadata": {},
   "outputs": [],
   "source": [
    "x = [np.array([[0.5, 4]]),  # half of sigmoid\n",
    "     np.array([[0.1, 3]]), # slope of sigmoid\n",
    "     np.array([[0.1, 5]]), # maximum of sigmoid\n",
    "     np.array([[0.1, 50]]), # tau fo temporal filter\n",
    "     np.array([[0.01, 2]]), # k of gain infi\n",
    "     np.array([[0.2, 3]]), # m of gain infi\n",
    "     np.array([[-2, +2]]), # half of gain tau\n",
    "     np.array([[-1, +1]]), # slope of gain tau\n",
    "     np.array([[100, 1500]])] # max of gain tau"
   ]
  },
  {
   "cell_type": "code",
   "execution_count": null,
   "metadata": {},
   "outputs": [],
   "source": [
    "import delfi.distribution as dd\n",
    "\n",
    "seed_p = 2\n",
    "prior_min = np.concatenate(x, axis=0)[:, 0]\n",
    "prior_max = np.concatenate(x, axis=0)[:, 1]\n",
    "prior = dd.Uniform(lower=prior_min, upper=prior_max,seed=seed_p)"
   ]
  },
  {
   "cell_type": "code",
   "execution_count": null,
   "metadata": {},
   "outputs": [],
   "source": [
    "import delfi.generator as dg\n",
    "\n",
    "# input current, time step\n",
    "t_on = 0\n",
    "t_off = len(stim)\n",
    "\n",
    "# seeds\n",
    "seed_m = 1\n",
    "\n",
    "# summary statistics hyperparameters\n",
    "n_summary = 218\n",
    "\n",
    "# define model, prior, summary statistics and generator classes\n",
    "s = RibonStats(t_on=t_on, t_off=t_off, dt=dt, n_summary=n_summary)\n",
    "\n",
    "n_processes = 5\n",
    "\n",
    "seeds_m = np.arange(1, n_processes+1, 1)\n",
    "m = []\n",
    "for i in range(n_processes):\n",
    "    m.append(Ribon(stim, dt, param_dim, pre_step, SinglePathwayModel, seed=seeds_m[i]))\n",
    "g = dg.MPGenerator(models=m, prior=prior, summary=s)"
   ]
  },
  {
   "cell_type": "code",
   "execution_count": null,
   "metadata": {},
   "outputs": [],
   "source": [
    "seed_inf = 1\n",
    "\n",
    "pilot_samples = 10\n",
    "\n",
    "# training schedule\n",
    "n_train = 10\n",
    "n_rounds = 1\n",
    "\n",
    "# fitting setup\n",
    "minibatch = 10\n",
    "epochs = 10\n",
    "val_frac = 0.05\n",
    "\n",
    "# network setup\n",
    "n_hiddens = [50,50]\n",
    "\n",
    "# convenience\n",
    "prior_norm = True\n",
    "\n",
    "# MAF parameters\n",
    "density = 'maf'\n",
    "n_mades = 5         # number of MADES"
   ]
  },
  {
   "cell_type": "code",
   "execution_count": null,
   "metadata": {
    "scrolled": true
   },
   "outputs": [],
   "source": [
    "import delfi.inference as infer\n",
    "\n",
    "# inference object\n",
    "res = infer.SNPEC(g,\n",
    "                obs=response,\n",
    "                n_hiddens=n_hiddens,\n",
    "                seed=seed_inf,\n",
    "                pilot_samples=pilot_samples,\n",
    "                n_mades=n_mades,\n",
    "                prior_norm=prior_norm,\n",
    "                density=density)"
   ]
  },
  {
   "cell_type": "code",
   "execution_count": null,
   "metadata": {},
   "outputs": [],
   "source": [
    "# train\n",
    "log, _, posterior = res.run(\n",
    "                    n_train=n_train,\n",
    "                    n_rounds=n_rounds,\n",
    "                    minibatch=minibatch,\n",
    "                    epochs=epochs,\n",
    "                    silent_fail=False,\n",
    "                    proposal='prior',\n",
    "                    val_frac=val_frac,\n",
    "                    verbose=True,)"
   ]
  },
  {
   "cell_type": "code",
   "execution_count": null,
   "metadata": {},
   "outputs": [],
   "source": [
    "import delfi"
   ]
  },
  {
   "cell_type": "code",
   "execution_count": null,
   "metadata": {},
   "outputs": [],
   "source": [
    "dir(delfi.)"
   ]
  },
  {
   "cell_type": "code",
   "execution_count": null,
   "metadata": {},
   "outputs": [],
   "source": [
    "log"
   ]
  },
  {
   "cell_type": "code",
   "execution_count": null,
   "metadata": {},
   "outputs": [],
   "source": [
    "fig = plt.figure(figsize=(15,5))\n",
    "\n",
    "plt.plot(log[0]['loss'],lw=2)\n",
    "plt.xlabel('iteration')\n",
    "plt.ylabel('loss');"
   ]
  },
  {
   "cell_type": "code",
   "execution_count": null,
   "metadata": {},
   "outputs": [],
   "source": [
    "from delfi.utils.viz import samples_nd\n",
    "\n",
    "prior_min = g.prior.lower\n",
    "prior_max = g.prior.upper\n",
    "prior_lims = np.concatenate((prior_min.reshape(-1,1),prior_max.reshape(-1,1)),axis=1)\n",
    "\n",
    "posterior_samples = posterior[0].gen(10000)\n",
    "\n",
    "###################\n",
    "# colors\n",
    "hex2rgb = lambda h: tuple(int(h[i:i+2], 16) for i in (0, 2, 4))\n",
    "\n",
    "# RGB colors in [0, 255]\n",
    "col = {}\n",
    "col['GT']      = hex2rgb('30C05D')\n",
    "col['SNPE']    = hex2rgb('2E7FE8')\n",
    "col['SAMPLE1'] = hex2rgb('8D62BC')\n",
    "col['SAMPLE2'] = hex2rgb('AF99EF')\n",
    "\n",
    "# convert to RGB colors in [0, 1]\n",
    "for k, v in col.items():\n",
    "    col[k] = tuple([i/255 for i in v])\n",
    "\n",
    "labels_params = [ str(i) for i in range(9)]\n",
    "###################\n",
    "# posterior\n",
    "fig, axes = samples_nd(posterior_samples,\n",
    "                       limits=prior_lims,\n",
    "                       ticks=prior_lims,\n",
    "                       labels=labels_params,\n",
    "                       fig_size=(5,5),\n",
    "                       diag='kde',\n",
    "                       upper='kde',\n",
    "                       hist_diag={'bins': 50},\n",
    "                       hist_offdiag={'bins': 50},\n",
    "                       kde_diag={'bins': 50, 'color': col['SNPE']},\n",
    "                       kde_offdiag={'bins': 50},\n",
    "                       # points=[true_params],\n",
    "                       points_offdiag={'markersize': 5},\n",
    "                       points_colors=[col['GT']],\n",
    "                       title='');\n",
    "\n",
    "\n"
   ]
  },
  {
   "cell_type": "code",
   "execution_count": null,
   "metadata": {},
   "outputs": [],
   "source": []
  }
 ],
 "metadata": {
  "kernelspec": {
   "display_name": "Python 3",
   "language": "python",
   "name": "python3"
  },
  "language_info": {
   "codemirror_mode": {
    "name": "ipython",
    "version": 3
   },
   "file_extension": ".py",
   "mimetype": "text/x-python",
   "name": "python",
   "nbconvert_exporter": "python",
   "pygments_lexer": "ipython3",
   "version": "3.6.8"
  }
 },
 "nbformat": 4,
 "nbformat_minor": 2
}
